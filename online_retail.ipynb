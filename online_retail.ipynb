{
 "cells": [
  {
   "cell_type": "markdown",
   "metadata": {},
   "source": [
    "# Portfolio Project: Online Retail Exploratory Data Analysis with Python"
   ]
  },
  {
   "cell_type": "markdown",
   "metadata": {},
   "source": [
    "## Overview\n",
    "\n",
    "In this project, you will step into the shoes of an entry-level data analyst at an online retail company, helping interpret real-world data to help make a key business decision."
   ]
  },
  {
   "cell_type": "markdown",
   "metadata": {},
   "source": [
    "## Case Study\n",
    "In this project, you will be working with transactional data from an online retail store. The dataset contains information about customer purchases, including product details, quantities, prices, and timestamps. Your task is to explore and analyze this dataset to gain insights into the store's sales trends, customer behavior, and popular products. \n",
    "\n",
    "By conducting exploratory data analysis, you will identify patterns, outliers, and correlations in the data, allowing you to make data-driven decisions and recommendations to optimize the store's operations and improve customer satisfaction. Through visualizations and statistical analysis, you will uncover key trends, such as the busiest sales months, best-selling products, and the store's most valuable customers. Ultimately, this project aims to provide actionable insights that can drive strategic business decisions and enhance the store's overall performance in the competitive online retail market.\n",
    "\n",
    "## Prerequisites\n",
    "\n",
    "Before starting this project, you should have some basic knowledge of Python programming and Pandas. In addition, you may want to use the following packages in your Python environment:\n",
    "\n",
    "- pandas\n",
    "- numpy\n",
    "- seaborn\n",
    "- matplotlib\n",
    "\n",
    "These packages should already be installed in Coursera's Jupyter Notebook environment, however if you'd like to install additional packages that are not included in this environment or are working off platform you can install additional packages using `!pip install packagename` within a notebook cell such as:\n",
    "\n",
    "- `!pip install pandas`\n",
    "- `!pip install matplotlib`"
   ]
  },
  {
   "cell_type": "markdown",
   "metadata": {},
   "source": [
    "## Project Objectives\n",
    "1. Describe data to answer key questions to uncover insights\n",
    "2. Gain valuable insights that will help improve online retail performance\n",
    "3. Provide analytic insights and data-driven recommendations"
   ]
  },
  {
   "cell_type": "markdown",
   "metadata": {},
   "source": [
    "## Dataset\n",
    "\n",
    "The dataset you will be working with is the \"Online Retail\" dataset. It contains transactional data of an online retail store from 2010 to 2011. The dataset is available as a .xlsx file named `Online Retail.xlsx`. This data file is already included in the Coursera Jupyter Notebook environment, however if you are working off-platform it can also be downloaded [here](https://archive.ics.uci.edu/ml/machine-learning-databases/00352/Online%20Retail.xlsx).\n",
    "\n",
    "The dataset contains the following columns:\n",
    "\n",
    "- InvoiceNo: Invoice number of the transaction\n",
    "- StockCode: Unique code of the product\n",
    "- Description: Description of the product\n",
    "- Quantity: Quantity of the product in the transaction\n",
    "- InvoiceDate: Date and time of the transaction\n",
    "- UnitPrice: Unit price of the product\n",
    "- CustomerID: Unique identifier of the customer\n",
    "- Country: Country where the transaction occurred"
   ]
  },
  {
   "cell_type": "markdown",
   "metadata": {},
   "source": [
    "## Tasks\n",
    "\n",
    "You may explore this dataset in any way you would like - however if you'd like some help getting started, here are a few ideas:\n",
    "\n",
    "1. Load the dataset into a Pandas DataFrame and display the first few rows to get an overview of the data.\n",
    "2. Perform data cleaning by handling missing values, if any, and removing any redundant or unnecessary columns.\n",
    "3. Explore the basic statistics of the dataset, including measures of central tendency and dispersion.\n",
    "4. Perform data visualization to gain insights into the dataset. Generate appropriate plots, such as histograms, scatter plots, or bar plots, to visualize different aspects of the data.\n",
    "5. Analyze the sales trends over time. Identify the busiest months and days of the week in terms of sales.\n",
    "6. Explore the top-selling products and countries based on the quantity sold.\n",
    "7. Identify any outliers or anomalies in the dataset and discuss their potential impact on the analysis.\n",
    "8. Draw conclusions and summarize your findings from the exploratory data analysis."
   ]
  },
  {
   "cell_type": "markdown",
   "metadata": {},
   "source": [
    "## Task 1: Load the Data"
   ]
  },
  {
   "cell_type": "code",
   "execution_count": 5,
   "metadata": {},
   "outputs": [],
   "source": [
    "import pandas as pd\n",
    "import numpy as np\n",
    "import matplotlib.pyplot as plt\n",
    "import seaborn as sns\n",
    "%matplotlib inline"
   ]
  },
  {
   "cell_type": "code",
   "execution_count": 6,
   "metadata": {},
   "outputs": [],
   "source": [
    "path = \"Online Retail.xlsx\""
   ]
  },
  {
   "cell_type": "code",
   "execution_count": 7,
   "metadata": {},
   "outputs": [],
   "source": [
    "df = pd.read_excel(path)"
   ]
  },
  {
   "cell_type": "code",
   "execution_count": 8,
   "metadata": {},
   "outputs": [
    {
     "data": {
      "text/html": [
       "<div>\n",
       "<style scoped>\n",
       "    .dataframe tbody tr th:only-of-type {\n",
       "        vertical-align: middle;\n",
       "    }\n",
       "\n",
       "    .dataframe tbody tr th {\n",
       "        vertical-align: top;\n",
       "    }\n",
       "\n",
       "    .dataframe thead th {\n",
       "        text-align: right;\n",
       "    }\n",
       "</style>\n",
       "<table border=\"1\" class=\"dataframe\">\n",
       "  <thead>\n",
       "    <tr style=\"text-align: right;\">\n",
       "      <th></th>\n",
       "      <th>InvoiceNo</th>\n",
       "      <th>StockCode</th>\n",
       "      <th>Description</th>\n",
       "      <th>Quantity</th>\n",
       "      <th>InvoiceDate</th>\n",
       "      <th>UnitPrice</th>\n",
       "      <th>CustomerID</th>\n",
       "      <th>Country</th>\n",
       "    </tr>\n",
       "  </thead>\n",
       "  <tbody>\n",
       "    <tr>\n",
       "      <th>0</th>\n",
       "      <td>536365</td>\n",
       "      <td>85123A</td>\n",
       "      <td>WHITE HANGING HEART T-LIGHT HOLDER</td>\n",
       "      <td>6</td>\n",
       "      <td>2010-12-01 08:26:00</td>\n",
       "      <td>2.55</td>\n",
       "      <td>17850.0</td>\n",
       "      <td>United Kingdom</td>\n",
       "    </tr>\n",
       "    <tr>\n",
       "      <th>1</th>\n",
       "      <td>536365</td>\n",
       "      <td>71053</td>\n",
       "      <td>WHITE METAL LANTERN</td>\n",
       "      <td>6</td>\n",
       "      <td>2010-12-01 08:26:00</td>\n",
       "      <td>3.39</td>\n",
       "      <td>17850.0</td>\n",
       "      <td>United Kingdom</td>\n",
       "    </tr>\n",
       "    <tr>\n",
       "      <th>2</th>\n",
       "      <td>536365</td>\n",
       "      <td>84406B</td>\n",
       "      <td>CREAM CUPID HEARTS COAT HANGER</td>\n",
       "      <td>8</td>\n",
       "      <td>2010-12-01 08:26:00</td>\n",
       "      <td>2.75</td>\n",
       "      <td>17850.0</td>\n",
       "      <td>United Kingdom</td>\n",
       "    </tr>\n",
       "    <tr>\n",
       "      <th>3</th>\n",
       "      <td>536365</td>\n",
       "      <td>84029G</td>\n",
       "      <td>KNITTED UNION FLAG HOT WATER BOTTLE</td>\n",
       "      <td>6</td>\n",
       "      <td>2010-12-01 08:26:00</td>\n",
       "      <td>3.39</td>\n",
       "      <td>17850.0</td>\n",
       "      <td>United Kingdom</td>\n",
       "    </tr>\n",
       "    <tr>\n",
       "      <th>4</th>\n",
       "      <td>536365</td>\n",
       "      <td>84029E</td>\n",
       "      <td>RED WOOLLY HOTTIE WHITE HEART.</td>\n",
       "      <td>6</td>\n",
       "      <td>2010-12-01 08:26:00</td>\n",
       "      <td>3.39</td>\n",
       "      <td>17850.0</td>\n",
       "      <td>United Kingdom</td>\n",
       "    </tr>\n",
       "  </tbody>\n",
       "</table>\n",
       "</div>"
      ],
      "text/plain": [
       "  InvoiceNo StockCode                          Description  Quantity  \\\n",
       "0    536365    85123A   WHITE HANGING HEART T-LIGHT HOLDER         6   \n",
       "1    536365     71053                  WHITE METAL LANTERN         6   \n",
       "2    536365    84406B       CREAM CUPID HEARTS COAT HANGER         8   \n",
       "3    536365    84029G  KNITTED UNION FLAG HOT WATER BOTTLE         6   \n",
       "4    536365    84029E       RED WOOLLY HOTTIE WHITE HEART.         6   \n",
       "\n",
       "          InvoiceDate  UnitPrice  CustomerID         Country  \n",
       "0 2010-12-01 08:26:00       2.55     17850.0  United Kingdom  \n",
       "1 2010-12-01 08:26:00       3.39     17850.0  United Kingdom  \n",
       "2 2010-12-01 08:26:00       2.75     17850.0  United Kingdom  \n",
       "3 2010-12-01 08:26:00       3.39     17850.0  United Kingdom  \n",
       "4 2010-12-01 08:26:00       3.39     17850.0  United Kingdom  "
      ]
     },
     "execution_count": 8,
     "metadata": {},
     "output_type": "execute_result"
    }
   ],
   "source": [
    "df.head()"
   ]
  },
  {
   "cell_type": "code",
   "execution_count": 9,
   "metadata": {},
   "outputs": [
    {
     "name": "stdout",
     "output_type": "stream",
     "text": [
      "InvoiceNo           0\n",
      "StockCode           0\n",
      "Description      1454\n",
      "Quantity            0\n",
      "InvoiceDate         0\n",
      "UnitPrice           0\n",
      "CustomerID     135080\n",
      "Country             0\n",
      "dtype: int64\n"
     ]
    }
   ],
   "source": [
    "print(df.isnull().sum())"
   ]
  },
  {
   "cell_type": "code",
   "execution_count": 10,
   "metadata": {},
   "outputs": [],
   "source": [
    "df.drop_duplicates(inplace=True)"
   ]
  },
  {
   "cell_type": "code",
   "execution_count": 11,
   "metadata": {},
   "outputs": [
    {
     "name": "stdout",
     "output_type": "stream",
     "text": [
      "InvoiceNo           0\n",
      "StockCode           0\n",
      "Description      1454\n",
      "Quantity            0\n",
      "InvoiceDate         0\n",
      "UnitPrice           0\n",
      "CustomerID     135037\n",
      "Country             0\n",
      "dtype: int64\n"
     ]
    }
   ],
   "source": [
    "print(df.isnull().sum())"
   ]
  },
  {
   "cell_type": "code",
   "execution_count": 12,
   "metadata": {},
   "outputs": [],
   "source": [
    "df['Description'] = df['Description'].fillna('No Description')"
   ]
  },
  {
   "cell_type": "code",
   "execution_count": 13,
   "metadata": {},
   "outputs": [
    {
     "name": "stdout",
     "output_type": "stream",
     "text": [
      "InvoiceNo           0\n",
      "StockCode           0\n",
      "Description         0\n",
      "Quantity            0\n",
      "InvoiceDate         0\n",
      "UnitPrice           0\n",
      "CustomerID     135037\n",
      "Country             0\n",
      "dtype: int64\n"
     ]
    }
   ],
   "source": [
    "print(df.isnull().sum())"
   ]
  },
  {
   "cell_type": "code",
   "execution_count": 14,
   "metadata": {},
   "outputs": [],
   "source": [
    "df = df.dropna(subset = [\"CustomerID\"])"
   ]
  },
  {
   "cell_type": "code",
   "execution_count": 15,
   "metadata": {},
   "outputs": [
    {
     "name": "stdout",
     "output_type": "stream",
     "text": [
      "InvoiceNo      0\n",
      "StockCode      0\n",
      "Description    0\n",
      "Quantity       0\n",
      "InvoiceDate    0\n",
      "UnitPrice      0\n",
      "CustomerID     0\n",
      "Country        0\n",
      "dtype: int64\n"
     ]
    }
   ],
   "source": [
    "print(df.isnull().sum())"
   ]
  },
  {
   "cell_type": "code",
   "execution_count": 16,
   "metadata": {},
   "outputs": [
    {
     "data": {
      "text/html": [
       "<div>\n",
       "<style scoped>\n",
       "    .dataframe tbody tr th:only-of-type {\n",
       "        vertical-align: middle;\n",
       "    }\n",
       "\n",
       "    .dataframe tbody tr th {\n",
       "        vertical-align: top;\n",
       "    }\n",
       "\n",
       "    .dataframe thead th {\n",
       "        text-align: right;\n",
       "    }\n",
       "</style>\n",
       "<table border=\"1\" class=\"dataframe\">\n",
       "  <thead>\n",
       "    <tr style=\"text-align: right;\">\n",
       "      <th></th>\n",
       "      <th>InvoiceNo</th>\n",
       "      <th>StockCode</th>\n",
       "      <th>Description</th>\n",
       "      <th>Quantity</th>\n",
       "      <th>InvoiceDate</th>\n",
       "      <th>UnitPrice</th>\n",
       "      <th>CustomerID</th>\n",
       "      <th>Country</th>\n",
       "    </tr>\n",
       "  </thead>\n",
       "  <tbody>\n",
       "    <tr>\n",
       "      <th>0</th>\n",
       "      <td>536365</td>\n",
       "      <td>85123A</td>\n",
       "      <td>WHITE HANGING HEART T-LIGHT HOLDER</td>\n",
       "      <td>6</td>\n",
       "      <td>2010-12-01 08:26:00</td>\n",
       "      <td>2.55</td>\n",
       "      <td>17850.0</td>\n",
       "      <td>United Kingdom</td>\n",
       "    </tr>\n",
       "    <tr>\n",
       "      <th>1</th>\n",
       "      <td>536365</td>\n",
       "      <td>71053</td>\n",
       "      <td>WHITE METAL LANTERN</td>\n",
       "      <td>6</td>\n",
       "      <td>2010-12-01 08:26:00</td>\n",
       "      <td>3.39</td>\n",
       "      <td>17850.0</td>\n",
       "      <td>United Kingdom</td>\n",
       "    </tr>\n",
       "    <tr>\n",
       "      <th>2</th>\n",
       "      <td>536365</td>\n",
       "      <td>84406B</td>\n",
       "      <td>CREAM CUPID HEARTS COAT HANGER</td>\n",
       "      <td>8</td>\n",
       "      <td>2010-12-01 08:26:00</td>\n",
       "      <td>2.75</td>\n",
       "      <td>17850.0</td>\n",
       "      <td>United Kingdom</td>\n",
       "    </tr>\n",
       "    <tr>\n",
       "      <th>3</th>\n",
       "      <td>536365</td>\n",
       "      <td>84029G</td>\n",
       "      <td>KNITTED UNION FLAG HOT WATER BOTTLE</td>\n",
       "      <td>6</td>\n",
       "      <td>2010-12-01 08:26:00</td>\n",
       "      <td>3.39</td>\n",
       "      <td>17850.0</td>\n",
       "      <td>United Kingdom</td>\n",
       "    </tr>\n",
       "    <tr>\n",
       "      <th>4</th>\n",
       "      <td>536365</td>\n",
       "      <td>84029E</td>\n",
       "      <td>RED WOOLLY HOTTIE WHITE HEART.</td>\n",
       "      <td>6</td>\n",
       "      <td>2010-12-01 08:26:00</td>\n",
       "      <td>3.39</td>\n",
       "      <td>17850.0</td>\n",
       "      <td>United Kingdom</td>\n",
       "    </tr>\n",
       "  </tbody>\n",
       "</table>\n",
       "</div>"
      ],
      "text/plain": [
       "  InvoiceNo StockCode                          Description  Quantity  \\\n",
       "0    536365    85123A   WHITE HANGING HEART T-LIGHT HOLDER         6   \n",
       "1    536365     71053                  WHITE METAL LANTERN         6   \n",
       "2    536365    84406B       CREAM CUPID HEARTS COAT HANGER         8   \n",
       "3    536365    84029G  KNITTED UNION FLAG HOT WATER BOTTLE         6   \n",
       "4    536365    84029E       RED WOOLLY HOTTIE WHITE HEART.         6   \n",
       "\n",
       "          InvoiceDate  UnitPrice  CustomerID         Country  \n",
       "0 2010-12-01 08:26:00       2.55     17850.0  United Kingdom  \n",
       "1 2010-12-01 08:26:00       3.39     17850.0  United Kingdom  \n",
       "2 2010-12-01 08:26:00       2.75     17850.0  United Kingdom  \n",
       "3 2010-12-01 08:26:00       3.39     17850.0  United Kingdom  \n",
       "4 2010-12-01 08:26:00       3.39     17850.0  United Kingdom  "
      ]
     },
     "execution_count": 16,
     "metadata": {},
     "output_type": "execute_result"
    }
   ],
   "source": [
    "df.head()"
   ]
  },
  {
   "cell_type": "code",
   "execution_count": 17,
   "metadata": {},
   "outputs": [
    {
     "data": {
      "text/html": [
       "<div>\n",
       "<style scoped>\n",
       "    .dataframe tbody tr th:only-of-type {\n",
       "        vertical-align: middle;\n",
       "    }\n",
       "\n",
       "    .dataframe tbody tr th {\n",
       "        vertical-align: top;\n",
       "    }\n",
       "\n",
       "    .dataframe thead th {\n",
       "        text-align: right;\n",
       "    }\n",
       "</style>\n",
       "<table border=\"1\" class=\"dataframe\">\n",
       "  <thead>\n",
       "    <tr style=\"text-align: right;\">\n",
       "      <th></th>\n",
       "      <th>Quantity</th>\n",
       "      <th>UnitPrice</th>\n",
       "      <th>CustomerID</th>\n",
       "    </tr>\n",
       "  </thead>\n",
       "  <tbody>\n",
       "    <tr>\n",
       "      <th>count</th>\n",
       "      <td>401604.000000</td>\n",
       "      <td>401604.000000</td>\n",
       "      <td>401604.000000</td>\n",
       "    </tr>\n",
       "    <tr>\n",
       "      <th>mean</th>\n",
       "      <td>12.183273</td>\n",
       "      <td>3.474064</td>\n",
       "      <td>15281.160818</td>\n",
       "    </tr>\n",
       "    <tr>\n",
       "      <th>std</th>\n",
       "      <td>250.283037</td>\n",
       "      <td>69.764035</td>\n",
       "      <td>1714.006089</td>\n",
       "    </tr>\n",
       "    <tr>\n",
       "      <th>min</th>\n",
       "      <td>-80995.000000</td>\n",
       "      <td>0.000000</td>\n",
       "      <td>12346.000000</td>\n",
       "    </tr>\n",
       "    <tr>\n",
       "      <th>25%</th>\n",
       "      <td>2.000000</td>\n",
       "      <td>1.250000</td>\n",
       "      <td>13939.000000</td>\n",
       "    </tr>\n",
       "    <tr>\n",
       "      <th>50%</th>\n",
       "      <td>5.000000</td>\n",
       "      <td>1.950000</td>\n",
       "      <td>15145.000000</td>\n",
       "    </tr>\n",
       "    <tr>\n",
       "      <th>75%</th>\n",
       "      <td>12.000000</td>\n",
       "      <td>3.750000</td>\n",
       "      <td>16784.000000</td>\n",
       "    </tr>\n",
       "    <tr>\n",
       "      <th>max</th>\n",
       "      <td>80995.000000</td>\n",
       "      <td>38970.000000</td>\n",
       "      <td>18287.000000</td>\n",
       "    </tr>\n",
       "  </tbody>\n",
       "</table>\n",
       "</div>"
      ],
      "text/plain": [
       "            Quantity      UnitPrice     CustomerID\n",
       "count  401604.000000  401604.000000  401604.000000\n",
       "mean       12.183273       3.474064   15281.160818\n",
       "std       250.283037      69.764035    1714.006089\n",
       "min    -80995.000000       0.000000   12346.000000\n",
       "25%         2.000000       1.250000   13939.000000\n",
       "50%         5.000000       1.950000   15145.000000\n",
       "75%        12.000000       3.750000   16784.000000\n",
       "max     80995.000000   38970.000000   18287.000000"
      ]
     },
     "execution_count": 17,
     "metadata": {},
     "output_type": "execute_result"
    }
   ],
   "source": [
    "df.describe()"
   ]
  },
  {
   "cell_type": "code",
   "execution_count": 18,
   "metadata": {},
   "outputs": [
    {
     "name": "stdout",
     "output_type": "stream",
     "text": [
      "Mean:\n",
      " Quantity         12.183273\n",
      "UnitPrice         3.474064\n",
      "CustomerID    15281.160818\n",
      "dtype: float64\n",
      "Median:\n",
      " Quantity          5.00\n",
      "UnitPrice         1.95\n",
      "CustomerID    15145.00\n",
      "dtype: float64\n",
      "Mode:\n",
      " Quantity          1.00\n",
      "UnitPrice         1.25\n",
      "CustomerID    17841.00\n",
      "Name: 0, dtype: float64\n"
     ]
    }
   ],
   "source": [
    "print('Mean:\\n', df.mean(numeric_only=True))\n",
    "\n",
    "print(\"Median:\\n\", df.median(numeric_only=True))\n",
    "\n",
    "print(\"Mode:\\n\", df.mode(numeric_only=True).iloc[0])"
   ]
  },
  {
   "cell_type": "code",
   "execution_count": 20,
   "metadata": {},
   "outputs": [
    {
     "name": "stdout",
     "output_type": "stream",
     "text": [
      "standard deviation:\n",
      " Quantity       250.283037\n",
      "UnitPrice       69.764035\n",
      "CustomerID    1714.006089\n",
      "dtype: float64\n",
      "variance:\n",
      " Quantity      6.264160e+04\n",
      "UnitPrice     4.867021e+03\n",
      "CustomerID    2.937817e+06\n",
      "dtype: float64\n",
      "range_values:\n",
      " Quantity      161990.0\n",
      "UnitPrice      38970.0\n",
      "CustomerID      5941.0\n",
      "dtype: float64\n"
     ]
    }
   ],
   "source": [
    "print(\"standard deviation:\\n\", df.std(numeric_only=True))\n",
    "print(\"variance:\\n\", df.var(numeric_only=True))\n",
    "range_values = df.max(numeric_only=True) - df.min(numeric_only=True)\n",
    "print(\"range_values:\\n\",range_values)"
   ]
  },
  {
   "cell_type": "code",
   "execution_count": 21,
   "metadata": {},
   "outputs": [
    {
     "data": {
      "image/png": "[encoded data removed]",
      "text/plain": [
       "<Figure size 864x432 with 1 Axes>"
      ]
     },
     "metadata": {
      "needs_background": "light"
     },
     "output_type": "display_data"
    }
   ],
   "source": [
    "# Ensure 'InvoiceDate' is in datetime format\n",
    "df['InvoiceDate'] = pd.to_datetime(df['InvoiceDate'])\n",
    "\n",
    "# Calculate total sales for each invoice\n",
    "df['TotalPrice'] = df['Quantity'] * df['UnitPrice']\n",
    "\n",
    "# Group by date and sum the total sales\n",
    "daily_sales = df.groupby(df['InvoiceDate'].dt.date)['TotalPrice'].sum()\n",
    "\n",
    "# Plot the daily sales\n",
    "# Make sure matplotlib.pyplot is imported as plt before this cell is run\n",
    "import matplotlib.pyplot as plt # Ensure this line is present and executed\n",
    "plt.figure(figsize=(12, 6))\n",
    "daily_sales.plot()\n",
    "plt.title('Total Sales Over Time')\n",
    "plt.xlabel('Date')\n",
    "plt.ylabel('Total Sales')\n",
    "plt.show()"
   ]
  },
  {
   "cell_type": "code",
   "execution_count": 22,
   "metadata": {},
   "outputs": [
    {
     "name": "stdout",
     "output_type": "stream",
     "text": [
      "Busiest Months (Total Sales):\n",
      "Month\n",
      "11    1126815.070\n",
      "10     973306.380\n",
      "9      929356.232\n",
      "12     893912.290\n",
      "5      647011.670\n",
      "8      615078.090\n",
      "6      606862.520\n",
      "3      578576.210\n",
      "7      573112.321\n",
      "1      473731.900\n",
      "2      435534.070\n",
      "4      425222.671\n",
      "Name: TotalPrice, dtype: float64\n",
      "\n",
      "Busiest Days of the Week (Total Sales):\n",
      "DayName\n",
      "Monday       1271078.601\n",
      "Tuesday      1562715.681\n",
      "Wednesday    1526440.000\n",
      "Thursday     1902316.050\n",
      "Friday       1238556.741\n",
      "Saturday             NaN\n",
      "Sunday        777412.351\n",
      "Name: TotalPrice, dtype: float64\n"
     ]
    },
    {
     "data": {
      "image/png": "[encoded data removed]",
      "text/plain": [
       "<Figure size 720x360 with 1 Axes>"
      ]
     },
     "metadata": {
      "needs_background": "light"
     },
     "output_type": "display_data"
    },
    {
     "data": {
      "image/png": "[encoded data removed]",
      "text/plain": [
       "<Figure size 720x360 with 1 Axes>"
      ]
     },
     "metadata": {
      "needs_background": "light"
     },
     "output_type": "display_data"
    }
   ],
   "source": [
    "# Extract month and day of the week\n",
    "df['Month'] = df['InvoiceDate'].dt.month\n",
    "df['DayOfWeek'] = df['InvoiceDate'].dt.dayofweek # Monday=0, Sunday=6\n",
    "\n",
    "# Calculate total sales by month\n",
    "monthly_sales = df.groupby('Month')['TotalPrice'].sum().sort_values(ascending=False)\n",
    "\n",
    "# Calculate total sales by day of the week\n",
    "# Map dayofweek integer to day name for better readability\n",
    "day_names = {0: 'Monday', 1: 'Tuesday', 2: 'Wednesday', 3: 'Thursday', 4: 'Friday', 5: 'Saturday', 6: 'Sunday'}\n",
    "df['DayName'] = df['DayOfWeek'].map(day_names)\n",
    "daily_sales_weekday = df.groupby('DayName')['TotalPrice'].sum().reindex(['Monday', 'Tuesday', 'Wednesday', 'Thursday', 'Friday', 'Saturday', 'Sunday'])\n",
    "\n",
    "# Display the results\n",
    "print(\"Busiest Months (Total Sales):\")\n",
    "print(monthly_sales)\n",
    "\n",
    "print(\"\\nBusiest Days of the Week (Total Sales):\")\n",
    "print(daily_sales_weekday)\n",
    "\n",
    "# Optional: Plot the results for better visualization\n",
    "plt.figure(figsize=(10, 5))\n",
    "monthly_sales.plot(kind='bar')\n",
    "plt.title('Total Sales by Month')\n",
    "plt.xlabel('Month')\n",
    "plt.ylabel('Total Sales')\n",
    "plt.xticks(ticks=range(12), labels=['Jan', 'Feb', 'Mar', 'Apr', 'May', 'Jun', 'Jul', 'Aug', 'Sep', 'Oct', 'Nov', 'Dec'], rotation=0)\n",
    "plt.show()\n",
    "\n",
    "plt.figure(figsize=(10, 5))\n",
    "daily_sales_weekday.plot(kind='bar')\n",
    "plt.title('Total Sales by Day of the Week')\n",
    "plt.xlabel('Day of the Week')\n",
    "plt.ylabel('Total Sales')\n",
    "plt.show()"
   ]
  },
  {
   "cell_type": "code",
   "execution_count": 23,
   "metadata": {},
   "outputs": [
    {
     "name": "stdout",
     "output_type": "stream",
     "text": [
      "Top 10 Selling Products (by Quantity):\n",
      "Description\n",
      "WORLD WAR 2 GLIDERS ASSTD DESIGNS     53119\n",
      "JUMBO BAG RED RETROSPOT               44963\n",
      "ASSORTED COLOUR BIRD ORNAMENT         35215\n",
      "WHITE HANGING HEART T-LIGHT HOLDER    34128\n",
      "PACK OF 72 RETROSPOT CAKE CASES       33386\n",
      "POPCORN HOLDER                        30492\n",
      "RABBIT NIGHT LIGHT                    27045\n",
      "MINI PAINT SET VINTAGE                25880\n",
      "PACK OF 12 LONDON TISSUES             25305\n",
      "PACK OF 60 PINK PAISLEY CAKE CASES    24129\n",
      "Name: Quantity, dtype: int64\n",
      "\n",
      "Top 10 Selling Countries (by Quantity):\n",
      "Country\n",
      "United Kingdom    3994870\n",
      "Netherlands        200128\n",
      "EIRE               136187\n",
      "Germany            117341\n",
      "France             109806\n",
      "Australia           83643\n",
      "Sweden              35632\n",
      "Switzerland         29778\n",
      "Spain               26817\n",
      "Japan               25218\n",
      "Name: Quantity, dtype: int64\n"
     ]
    }
   ],
   "source": [
    "# Top-selling products based on quantity\n",
    "top_products_quantity = df.groupby('Description')['Quantity'].sum().sort_values(ascending=False)\n",
    "\n",
    "# Top-selling countries based on quantity\n",
    "top_countries_quantity = df.groupby('Country')['Quantity'].sum().sort_values(ascending=False)\n",
    "\n",
    "# Display the top products (e.g., top 10)\n",
    "print(\"Top 10 Selling Products (by Quantity):\")\n",
    "print(top_products_quantity.head(10))\n",
    "\n",
    "# Display the top countries (e.g., top 10)\n",
    "print(\"\\nTop 10 Selling Countries (by Quantity):\")\n",
    "print(top_countries_quantity.head(10))"
   ]
  },
  {
   "cell_type": "code",
   "execution_count": 24,
   "metadata": {},
   "outputs": [
    {
     "name": "stdout",
     "output_type": "stream",
     "text": [
      "Outliers in Quantity:\n",
      "   InvoiceNo StockCode                      Description  Quantity  \\\n",
      "9     536367     84879    ASSORTED COLOUR BIRD ORNAMENT        32   \n",
      "31    536370     10002      INFLATABLE POLITICAL GLOBE         48   \n",
      "44    536370     22492          MINI PAINT SET VINTAGE         36   \n",
      "46    536371     22086  PAPER CHAIN KIT 50'S CHRISTMAS         80   \n",
      "65    536374     21258       VICTORIAN SEWING BOX LARGE        32   \n",
      "\n",
      "           InvoiceDate  UnitPrice  CustomerID         Country  TotalPrice  \\\n",
      "9  2010-12-01 08:34:00       1.69     13047.0  United Kingdom       54.08   \n",
      "31 2010-12-01 08:45:00       0.85     12583.0          France       40.80   \n",
      "44 2010-12-01 08:45:00       0.65     12583.0          France       23.40   \n",
      "46 2010-12-01 09:00:00       2.55     13748.0  United Kingdom      204.00   \n",
      "65 2010-12-01 09:09:00      10.95     15100.0  United Kingdom      350.40   \n",
      "\n",
      "    Month  DayOfWeek    DayName  \n",
      "9      12          2  Wednesday  \n",
      "31     12          2  Wednesday  \n",
      "44     12          2  Wednesday  \n",
      "46     12          2  Wednesday  \n",
      "65     12          2  Wednesday  \n",
      "\n",
      "Outliers in UnitPrice:\n",
      "   InvoiceNo StockCode                     Description  Quantity  \\\n",
      "5     536365     22752    SET 7 BABUSHKA NESTING BOXES         2   \n",
      "16    536367     22622  BOX OF VINTAGE ALPHABET BLOCKS         2   \n",
      "19    536367     21777     RECIPE BOX WITH METAL HEART         4   \n",
      "20    536367     48187             DOORMAT NEW ENGLAND         4   \n",
      "45    536370      POST                         POSTAGE         3   \n",
      "\n",
      "           InvoiceDate  UnitPrice  CustomerID         Country  TotalPrice  \\\n",
      "5  2010-12-01 08:26:00       7.65     17850.0  United Kingdom        15.3   \n",
      "16 2010-12-01 08:34:00       9.95     13047.0  United Kingdom        19.9   \n",
      "19 2010-12-01 08:34:00       7.95     13047.0  United Kingdom        31.8   \n",
      "20 2010-12-01 08:34:00       7.95     13047.0  United Kingdom        31.8   \n",
      "45 2010-12-01 08:45:00      18.00     12583.0          France        54.0   \n",
      "\n",
      "    Month  DayOfWeek    DayName  \n",
      "5      12          2  Wednesday  \n",
      "16     12          2  Wednesday  \n",
      "19     12          2  Wednesday  \n",
      "20     12          2  Wednesday  \n",
      "45     12          2  Wednesday  \n"
     ]
    },
    {
     "data": {
      "image/png": "[encoded data removed]",
      "text/plain": [
       "<Figure size 864x432 with 2 Axes>"
      ]
     },
     "metadata": {
      "needs_background": "light"
     },
     "output_type": "display_data"
    }
   ],
   "source": [
    "# Calculate Q1, Q3, and IQR for 'Quantity' and 'UnitPrice'\n",
    "Q1_quantity = df['Quantity'].quantile(0.25)\n",
    "Q3_quantity = df['Quantity'].quantile(0.75)\n",
    "IQR_quantity = Q3_quantity - Q1_quantity\n",
    "\n",
    "Q1_unitprice = df['UnitPrice'].quantile(0.25)\n",
    "Q3_unitprice = df['UnitPrice'].quantile(0.75)\n",
    "IQR_unitprice = Q3_unitprice - Q1_unitprice\n",
    "\n",
    "# Define outlier bounds\n",
    "lower_bound_quantity = Q1_quantity - 1.5 * IQR_quantity\n",
    "upper_bound_quantity = Q3_quantity + 1.5 * IQR_quantity\n",
    "\n",
    "lower_bound_unitprice = Q1_unitprice - 1.5 * IQR_unitprice\n",
    "upper_bound_unitprice = Q3_unitprice + 1.5 * IQR_unitprice\n",
    "\n",
    "# Identify outliers in 'Quantity' and 'UnitPrice'\n",
    "outliers_quantity = df[(df['Quantity'] < lower_bound_quantity) | (df['Quantity'] > upper_bound_quantity)]\n",
    "outliers_unitprice = df[(df['UnitPrice'] < lower_bound_unitprice) | (df['UnitPrice'] > upper_bound_unitprice)]\n",
    "\n",
    "print(\"Outliers in Quantity:\")\n",
    "print(outliers_quantity.head())\n",
    "\n",
    "print(\"\\nOutliers in UnitPrice:\")\n",
    "print(outliers_unitprice.head())\n",
    "\n",
    "# Visualize outliers using box plots\n",
    "plt.figure(figsize=(12, 6))\n",
    "plt.subplot(1, 2, 1)\n",
    "sns.boxplot(y=df['Quantity'])\n",
    "plt.title('Box Plot of Quantity')\n",
    "\n",
    "plt.subplot(1, 2, 2)\n",
    "sns.boxplot(y=df['UnitPrice'])\n",
    "plt.title('Box Plot of UnitPrice')\n",
    "plt.show()"
   ]
  },
  {
   "cell_type": "markdown",
   "metadata": {},
   "source": [
    "# Based on the exploratory data analysis performed, here's a summary of the key findings:\n",
    "\n",
    "Data Overview: The dataset contains transactional data with columns like InvoiceNo, StockCode, Description, Quantity, InvoiceDate, UnitPrice, CustomerID, and Country.\n",
    "Missing Values: The analysis revealed missing values in the Description and CustomerID columns.\n",
    "Missing values in Description were imputed with 'No Description'.\n",
    "Rows with missing CustomerID were dropped, as this is crucial for customer-based analysis.\n",
    "Data Duplicates: Duplicate rows were identified and removed, ensuring the analysis is based on unique transactions.\n",
    "Descriptive Statistics:\n",
    "The descriptive statistics for numerical columns (Quantity and UnitPrice) showed a wide range of values and indicated the presence of potential outliers, particularly in Quantity.\n",
    "The mean and median provided insights into the typical transaction values, while the standard deviation and variance highlighted the dispersion of the data.\n",
    "Sales Trends Over Time:\n",
    "Analyzing daily sales revealed fluctuations and potential seasonal patterns.\n",
    "Monthly sales analysis identified the busiest months (likely those with higher sales volume).\n",
    "Daily sales by weekday showed variations in sales activity throughout the week, indicating busier and slower days.\n",
    "Top Products and Countries:\n",
    "Identifying top-selling products by quantity highlighted the most popular items.\n",
    "Identifying top-selling countries by quantity revealed the main geographical markets.\n",
    "Outlier Identification:\n",
    "The IQR method and box plots confirmed the presence of outliers in both Quantity and UnitPrice. These outliers represent transactions with extremely high quantities or unit prices.\n",
    "Overall Conclusions:\n",
    "\n",
    "The dataset provides valuable insights into customer purchasing behavior, product popularity, and sales trends across different regions and time periods.\n",
    "Data cleaning steps, such as handling missing values and duplicates, were essential for ensuring the reliability of the analysis.\n",
    "Outliers in Quantity and UnitPrice need to be considered when performing further analysis or building models, as they can significantly impact results. Depending on the business question, deciding how to handle these outliers (e.g., remove, transform, or analyze separately) is crucial.\n",
    "The analysis of sales over time, by month and weekday, can inform business strategies related to inventory management, staffing, and marketing campaigns.\n",
    "Identifying top products and countries can help in targeting marketing efforts and optimizing product offerings.\n",
    "This exploratory data analysis provides a solid foundation for deeper investigations, such as customer segmentation, predictive modeling, or market basket analysis."
   ]
  }
 ],
 "metadata": {
  "kernelspec": {
   "display_name": "Python 3",
   "language": "python",
   "name": "python3"
  },
  "language_info": {
   "codemirror_mode": {
    "name": "ipython",
    "version": 3
   },
   "file_extension": ".py",
   "mimetype": "text/x-python",
   "name": "python",
   "nbconvert_exporter": "python",
   "pygments_lexer": "ipython3",
   "version": "3.7.6"
  }
 },
 "nbformat": 4,
 "nbformat_minor": 4
}
